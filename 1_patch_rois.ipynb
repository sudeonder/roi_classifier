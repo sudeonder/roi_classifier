{
 "cells": [
  {
   "cell_type": "markdown",
   "id": "f58b84f3",
   "metadata": {},
   "source": [
    "# roi patching pipeline"
   ]
  }
 ],
 "metadata": {
  "language_info": {
   "name": "python"
  }
 },
 "nbformat": 4,
 "nbformat_minor": 5
}
