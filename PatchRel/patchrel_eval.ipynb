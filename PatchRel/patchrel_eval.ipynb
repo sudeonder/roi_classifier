{
 "cells": [
  {
   "cell_type": "code",
   "execution_count": null,
   "id": "3aa2562b",
   "metadata": {
    "vscode": {
     "languageId": "plaintext"
    }
   },
   "outputs": [],
   "source": [
    "# patchrel eval"
   ]
  }
 ],
 "metadata": {
  "language_info": {
   "name": "python"
  }
 },
 "nbformat": 4,
 "nbformat_minor": 5
}
