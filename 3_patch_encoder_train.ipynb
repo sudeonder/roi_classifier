{
 "cells": [
  {
   "cell_type": "code",
   "execution_count": null,
   "id": "3c464961",
   "metadata": {
    "vscode": {
     "languageId": "plaintext"
    }
   },
   "outputs": [],
   "source": [
    "# patch encoder training"
   ]
  }
 ],
 "metadata": {
  "language_info": {
   "name": "python"
  }
 },
 "nbformat": 4,
 "nbformat_minor": 5
}
